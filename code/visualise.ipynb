{
 "cells": [
  {
   "cell_type": "code",
   "execution_count": 3,
   "metadata": {},
   "outputs": [],
   "source": [
    "import matplotlib.pyplot as plt\n",
    "import numpy as np\n",
    "import pandas as pd"
   ]
  },
  {
   "cell_type": "code",
   "execution_count": 4,
   "metadata": {},
   "outputs": [
    {
     "data": {
      "text/html": [
       "<div>\n",
       "<style scoped>\n",
       "    .dataframe tbody tr th:only-of-type {\n",
       "        vertical-align: middle;\n",
       "    }\n",
       "\n",
       "    .dataframe tbody tr th {\n",
       "        vertical-align: top;\n",
       "    }\n",
       "\n",
       "    .dataframe thead th {\n",
       "        text-align: right;\n",
       "    }\n",
       "</style>\n",
       "<table border=\"1\" class=\"dataframe\">\n",
       "  <thead>\n",
       "    <tr style=\"text-align: right;\">\n",
       "      <th></th>\n",
       "      <th>Company</th>\n",
       "      <th>Supply/Demand</th>\n",
       "      <th>ID</th>\n",
       "      <th>Quantity</th>\n",
       "      <th>Price</th>\n",
       "    </tr>\n",
       "  </thead>\n",
       "  <tbody>\n",
       "    <tr>\n",
       "      <th>0</th>\n",
       "      <td>ShinyPower</td>\n",
       "      <td>Supply</td>\n",
       "      <td>G3</td>\n",
       "      <td>32</td>\n",
       "      <td>0</td>\n",
       "    </tr>\n",
       "    <tr>\n",
       "      <th>1</th>\n",
       "      <td>RoskildeCHP</td>\n",
       "      <td>Supply</td>\n",
       "      <td>G4</td>\n",
       "      <td>25</td>\n",
       "      <td>42</td>\n",
       "    </tr>\n",
       "    <tr>\n",
       "      <th>2</th>\n",
       "      <td>FlexiGas</td>\n",
       "      <td>Supply</td>\n",
       "      <td>G1</td>\n",
       "      <td>15</td>\n",
       "      <td>75</td>\n",
       "    </tr>\n",
       "    <tr>\n",
       "      <th>3</th>\n",
       "      <td>CleanCharge</td>\n",
       "      <td>Demand</td>\n",
       "      <td>D2</td>\n",
       "      <td>23</td>\n",
       "      <td>78</td>\n",
       "    </tr>\n",
       "    <tr>\n",
       "      <th>4</th>\n",
       "      <td>WeLovePower</td>\n",
       "      <td>Demand</td>\n",
       "      <td>D1</td>\n",
       "      <td>35</td>\n",
       "      <td>65</td>\n",
       "    </tr>\n",
       "    <tr>\n",
       "      <th>5</th>\n",
       "      <td>ElRetail</td>\n",
       "      <td>Demand</td>\n",
       "      <td>D4</td>\n",
       "      <td>38</td>\n",
       "      <td>46</td>\n",
       "    </tr>\n",
       "    <tr>\n",
       "      <th>6</th>\n",
       "      <td>IntelliWat</td>\n",
       "      <td>Demand</td>\n",
       "      <td>D6</td>\n",
       "      <td>16</td>\n",
       "      <td>32</td>\n",
       "    </tr>\n",
       "    <tr>\n",
       "      <th>7</th>\n",
       "      <td>JyskeEl</td>\n",
       "      <td>Demand</td>\n",
       "      <td>D3</td>\n",
       "      <td>312</td>\n",
       "      <td>10</td>\n",
       "    </tr>\n",
       "  </tbody>\n",
       "</table>\n",
       "</div>"
      ],
      "text/plain": [
       "       Company Supply/Demand  ID  Quantity  Price\n",
       "0   ShinyPower        Supply  G3        32      0\n",
       "1  RoskildeCHP        Supply  G4        25     42\n",
       "2     FlexiGas        Supply  G1        15     75\n",
       "3  CleanCharge        Demand  D2        23     78\n",
       "4  WeLovePower        Demand  D1        35     65\n",
       "5     ElRetail        Demand  D4        38     46\n",
       "6   IntelliWat        Demand  D6        16     32\n",
       "7      JyskeEl        Demand  D3       312     10"
      ]
     },
     "execution_count": 4,
     "metadata": {},
     "output_type": "execute_result"
    }
   ],
   "source": [
    "path = '/Users/davidmiles-skov/Desktop/Academics/Projects/market-clearing-price/data/test2.csv'\n",
    "df = pd.read_csv(path)\n",
    "# renaming columns for easier access\n",
    "mapper={'Quantity (MWh)':'Quantity',  'Price (€/MWh)':'Price'}\n",
    "df=df.rename(columns=mapper)\n",
    "df_supply = df[df['Supply/Demand']=='Supply'].sort_values(by=['Price']).sort_values(by=['Price'])\n",
    "df_demand = df[df['Supply/Demand']=='Demand'].sort_values(by=['Price']).sort_values(by=['Price'], ascending=False)\n",
    "df"
   ]
  },
  {
   "cell_type": "code",
   "execution_count": 5,
   "metadata": {},
   "outputs": [
    {
     "name": "stdout",
     "output_type": "stream",
     "text": [
      "----- Supply -----\n",
      "       Company Supply/Demand  ID  Quantity  Price\n",
      "0   ShinyPower        Supply  G3        32      0\n",
      "1  RoskildeCHP        Supply  G4        25     42\n",
      "2     FlexiGas        Supply  G1        15     75\n",
      "----- Demand -----\n",
      "       Company Supply/Demand  ID  Quantity  Price\n",
      "3  CleanCharge        Demand  D2        23     78\n",
      "4  WeLovePower        Demand  D1        35     65\n",
      "5     ElRetail        Demand  D4        38     46\n",
      "6   IntelliWat        Demand  D6        16     32\n",
      "7      JyskeEl        Demand  D3       312     10\n"
     ]
    }
   ],
   "source": [
    "print('----- Supply -----')\n",
    "print(df_supply.head())\n",
    "print('----- Demand -----')\n",
    "print(df_demand.head())"
   ]
  },
  {
   "cell_type": "code",
   "execution_count": 6,
   "metadata": {},
   "outputs": [],
   "source": [
    "quantity_supply, quantity_demand = df_supply['Quantity'].to_numpy(), df_demand['Quantity'].to_numpy()\n",
    "price_supply, price_demand = df_supply['Price'].to_numpy(), df_demand['Price'].to_numpy()"
   ]
  },
  {
   "cell_type": "markdown",
   "metadata": {},
   "source": [
    "formatting for plotting"
   ]
  },
  {
   "cell_type": "code",
   "execution_count": 7,
   "metadata": {},
   "outputs": [
    {
     "data": {
      "text/plain": [
       "(array([424, 424, 112,  96,  58,  23,   0]),\n",
       " array([ 0, 10, 32, 46, 65, 78, 78]))"
      ]
     },
     "execution_count": 7,
     "metadata": {},
     "output_type": "execute_result"
    }
   ],
   "source": [
    "x_demand = np.cumsum(quantity_demand)[::-1]\n",
    "x_demand = np.append(np.array(x_demand[0]), x_demand)\n",
    "x_demand = np.append(x_demand, np.array([0]))\n",
    "y_demand = price_demand[::-1]\n",
    "y_demand = np.append(np.array([0]), y_demand) # Must start at axis\n",
    "y_demand = np.append(y_demand, np.array(y_demand[-1]))\n",
    "x_demand, y_demand"
   ]
  },
  {
   "cell_type": "code",
   "execution_count": 9,
   "metadata": {},
   "outputs": [
    {
     "data": {
      "text/plain": [
       "(array([ 0, 32, 57, 72]), array([ 0,  0, 42, 75]))"
      ]
     },
     "execution_count": 9,
     "metadata": {},
     "output_type": "execute_result"
    }
   ],
   "source": [
    "x_supply = np.cumsum(quantity_supply)\n",
    "x_supply = np.append(np.array([0]), x_supply)\n",
    "y_supply = np.append(np.array([0]), price_supply)\n",
    "x_supply, y_supply"
   ]
  },
  {
   "cell_type": "code",
   "execution_count": 10,
   "metadata": {},
   "outputs": [
    {
     "data": {
      "image/png": "[encoded data removed]",
      "text/plain": [
       "<Figure size 640x480 with 1 Axes>"
      ]
     },
     "metadata": {},
     "output_type": "display_data"
    }
   ],
   "source": [
    "# Create the step plot\n",
    "fig, ax = plt.subplots()\n",
    "fig.figsize=(10, 6)\n",
    "\n",
    "ax.step(x_supply, y_supply, where='post', label='Supply', color='cornflowerblue', linewidth=2, marker='.')\n",
    "ax.step(x_demand, y_demand, where='post', label='Demand', color='lightcoral', linewidth=2)\n",
    "\n",
    "# labels and title\n",
    "ax.set_xlabel('Energy [MWh]')\n",
    "ax.set_ylabel('Price [€/MWh]')\n",
    "ax.set_title('Supply/Demand Curves')\n",
    "ax.grid(True)\n",
    "ax.legend(loc='upper right')\n",
    "\n",
    "# Show the plot\n",
    "plt.show()"
   ]
  }
 ],
 "metadata": {
  "kernelspec": {
   "display_name": "market-clearing-price",
   "language": "python",
   "name": "python3"
  },
  "language_info": {
   "codemirror_mode": {
    "name": "ipython",
    "version": 3
   },
   "file_extension": ".py",
   "mimetype": "text/x-python",
   "name": "python",
   "nbconvert_exporter": "python",
   "pygments_lexer": "ipython3",
   "version": "3.12.4"
  }
 },
 "nbformat": 4,
 "nbformat_minor": 2
}
