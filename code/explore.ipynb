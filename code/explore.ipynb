{
 "cells": [
  {
   "cell_type": "code",
   "execution_count": 2,
   "metadata": {},
   "outputs": [],
   "source": [
    "import pandas as pd\n",
    "import numpy as np\n",
    "from scipy.optimize import linprog\n",
    "import matplotlib.pyplot as plt"
   ]
  },
  {
   "cell_type": "code",
   "execution_count": 5,
   "metadata": {},
   "outputs": [],
   "source": [
    "path = '/Users/davidmiles-skov/Desktop/Academics/Projects/market-clearing-price/data/test.csv'\n",
    "df = pd.read_csv(path)\n",
    "# renaming columns for easier access\n",
    "mapper={'Quantity (MWh)':'Quantity',  'Price (€/MWh)':'Price'}\n",
    "df=df.rename(columns=mapper)"
   ]
  },
  {
   "cell_type": "markdown",
   "metadata": {},
   "source": [
    "Gathering data"
   ]
  },
  {
   "cell_type": "code",
   "execution_count": 7,
   "metadata": {},
   "outputs": [
    {
     "data": {
      "text/plain": [
       "(15, 12)"
      ]
     },
     "execution_count": 7,
     "metadata": {},
     "output_type": "execute_result"
    }
   ],
   "source": [
    "supply_price = df[df['Supply/Demand']=='Supply']['Price'].to_numpy()\n",
    "supply_quantity = df[df['Supply/Demand']=='Supply']['Quantity'].to_numpy()\n",
    "demand_price = df[df['Supply/Demand']=='Demand']['Price'].to_numpy()\n",
    "demand_quantity = df[df['Supply/Demand']=='Demand']['Quantity'].to_numpy()\n",
    "\n",
    "N_G, N_D = len(supply_price), len(demand_price)\n",
    "N_G, N_D"
   ]
  },
  {
   "cell_type": "markdown",
   "metadata": {},
   "source": [
    "Setting up variables for linprog"
   ]
  },
  {
   "cell_type": "code",
   "execution_count": 8,
   "metadata": {},
   "outputs": [],
   "source": [
    "c = np.append(supply_price,-demand_price)\n",
    "A_eq = np.array([np.append(np.ones(N_G), -np.ones(N_D))])\n",
    "b_eq = 0\n",
    "A = np.identity(N_G+N_D)\n",
    "b = np.append(supply_quantity,demand_quantity)"
   ]
  },
  {
   "cell_type": "markdown",
   "metadata": {},
   "source": [
    "linprog"
   ]
  },
  {
   "cell_type": "code",
   "execution_count": 9,
   "metadata": {},
   "outputs": [],
   "source": [
    "result = linprog(c, A_eq=A_eq, b_eq=b_eq, A_ub=A, b_ub=b)"
   ]
  },
  {
   "cell_type": "markdown",
   "metadata": {},
   "source": [
    "Checking answer"
   ]
  },
  {
   "cell_type": "code",
   "execution_count": 10,
   "metadata": {},
   "outputs": [
    {
     "data": {
      "text/plain": [
       "        message: Optimization terminated successfully. (HiGHS Status 7: Optimal)\n",
       "        success: True\n",
       "         status: 0\n",
       "            fun: -94817.5\n",
       "              x: [ 1.200e+02  5.000e+01 ...  0.000e+00  0.000e+00]\n",
       "            nit: 1\n",
       "          lower:  residual: [ 1.200e+02  5.000e+01 ...  0.000e+00\n",
       "                              0.000e+00]\n",
       "                 marginals: [ 0.000e+00  0.000e+00 ...  1.350e+01\n",
       "                              2.150e+01]\n",
       "          upper:  residual: [       inf        inf ...        inf\n",
       "                                    inf]\n",
       "                 marginals: [ 0.000e+00  0.000e+00 ...  0.000e+00\n",
       "                              0.000e+00]\n",
       "          eqlin:  residual: [ 0.000e+00]\n",
       "                 marginals: [ 3.750e+01]\n",
       "        ineqlin:  residual: [ 0.000e+00  0.000e+00 ...  2.500e+01\n",
       "                              1.000e+01]\n",
       "                 marginals: [-3.750e+01 -3.750e+01 ... -0.000e+00\n",
       "                             -0.000e+00]\n",
       " mip_node_count: 0\n",
       " mip_dual_bound: 0.0\n",
       "        mip_gap: 0.0"
      ]
     },
     "execution_count": 10,
     "metadata": {},
     "output_type": "execute_result"
    }
   ],
   "source": [
    "result"
   ]
  },
  {
   "cell_type": "markdown",
   "metadata": {},
   "source": [
    "check lagrange multipliers"
   ]
  },
  {
   "cell_type": "code",
   "execution_count": 11,
   "metadata": {},
   "outputs": [
    {
     "data": {
      "text/plain": [
       "  residual: [ 0.000e+00  0.000e+00 ...  2.500e+01  1.000e+01]\n",
       " marginals: [-3.750e+01 -3.750e+01 ... -0.000e+00 -0.000e+00]"
      ]
     },
     "execution_count": 11,
     "metadata": {},
     "output_type": "execute_result"
    }
   ],
   "source": [
    "result.ineqlin"
   ]
  },
  {
   "cell_type": "code",
   "execution_count": 12,
   "metadata": {},
   "outputs": [
    {
     "data": {
      "text/plain": [
       "  residual: [ 0.000e+00]\n",
       " marginals: [ 3.750e+01]"
      ]
     },
     "execution_count": 12,
     "metadata": {},
     "output_type": "execute_result"
    }
   ],
   "source": [
    "result.eqlin"
   ]
  }
 ],
 "metadata": {
  "kernelspec": {
   "display_name": "market-clearing-price",
   "language": "python",
   "name": "python3"
  },
  "language_info": {
   "codemirror_mode": {
    "name": "ipython",
    "version": 3
   },
   "file_extension": ".py",
   "mimetype": "text/x-python",
   "name": "python",
   "nbconvert_exporter": "python",
   "pygments_lexer": "ipython3",
   "version": "3.12.4"
  }
 },
 "nbformat": 4,
 "nbformat_minor": 2
}
