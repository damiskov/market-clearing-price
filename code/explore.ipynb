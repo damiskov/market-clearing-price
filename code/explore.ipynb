{
 "cells": [
  {
   "cell_type": "code",
   "execution_count": 21,
   "metadata": {},
   "outputs": [],
   "source": [
    "import pandas as pd\n",
    "import numpy as np\n",
    "from scipy.optimize import linprog\n",
    "import matplotlib.pyplot as plt"
   ]
  },
  {
   "cell_type": "code",
   "execution_count": 32,
   "metadata": {},
   "outputs": [
    {
     "data": {
      "text/html": [
       "<div>\n",
       "<style scoped>\n",
       "    .dataframe tbody tr th:only-of-type {\n",
       "        vertical-align: middle;\n",
       "    }\n",
       "\n",
       "    .dataframe tbody tr th {\n",
       "        vertical-align: top;\n",
       "    }\n",
       "\n",
       "    .dataframe thead th {\n",
       "        text-align: right;\n",
       "    }\n",
       "</style>\n",
       "<table border=\"1\" class=\"dataframe\">\n",
       "  <thead>\n",
       "    <tr style=\"text-align: right;\">\n",
       "      <th></th>\n",
       "      <th>Company</th>\n",
       "      <th>Supply/Demand</th>\n",
       "      <th>ID</th>\n",
       "      <th>Quantity (MWh)</th>\n",
       "      <th>Price (€/MWh)</th>\n",
       "    </tr>\n",
       "  </thead>\n",
       "  <tbody>\n",
       "    <tr>\n",
       "      <th>0</th>\n",
       "      <td>RT R© Supply</td>\n",
       "      <td>Supply</td>\n",
       "      <td>G1</td>\n",
       "      <td>120</td>\n",
       "      <td>0.0</td>\n",
       "    </tr>\n",
       "    <tr>\n",
       "      <th>1</th>\n",
       "      <td>WeTrustInWind</td>\n",
       "      <td>Supply</td>\n",
       "      <td>G2</td>\n",
       "      <td>50</td>\n",
       "      <td>0.0</td>\n",
       "    </tr>\n",
       "    <tr>\n",
       "      <th>2</th>\n",
       "      <td>BlueHydro</td>\n",
       "      <td>Supply</td>\n",
       "      <td>G3</td>\n",
       "      <td>200</td>\n",
       "      <td>15.0</td>\n",
       "    </tr>\n",
       "    <tr>\n",
       "      <th>3</th>\n",
       "      <td>RT R© Supply</td>\n",
       "      <td>Supply</td>\n",
       "      <td>G4</td>\n",
       "      <td>400</td>\n",
       "      <td>30.0</td>\n",
       "    </tr>\n",
       "    <tr>\n",
       "      <th>4</th>\n",
       "      <td>KøbenhavnCHP</td>\n",
       "      <td>Supply</td>\n",
       "      <td>G5</td>\n",
       "      <td>60</td>\n",
       "      <td>32.5</td>\n",
       "    </tr>\n",
       "    <tr>\n",
       "      <th>5</th>\n",
       "      <td>KøbenhavnCHP</td>\n",
       "      <td>Supply</td>\n",
       "      <td>G6</td>\n",
       "      <td>50</td>\n",
       "      <td>34.0</td>\n",
       "    </tr>\n",
       "    <tr>\n",
       "      <th>6</th>\n",
       "      <td>KøbenhavnCHP</td>\n",
       "      <td>Supply</td>\n",
       "      <td>G7</td>\n",
       "      <td>60</td>\n",
       "      <td>36.0</td>\n",
       "    </tr>\n",
       "    <tr>\n",
       "      <th>7</th>\n",
       "      <td>DirtyPower</td>\n",
       "      <td>Supply</td>\n",
       "      <td>G8</td>\n",
       "      <td>100</td>\n",
       "      <td>37.5</td>\n",
       "    </tr>\n",
       "    <tr>\n",
       "      <th>8</th>\n",
       "      <td>DirtyPower</td>\n",
       "      <td>Supply</td>\n",
       "      <td>G9</td>\n",
       "      <td>70</td>\n",
       "      <td>39.0</td>\n",
       "    </tr>\n",
       "    <tr>\n",
       "      <th>9</th>\n",
       "      <td>DirtyPower</td>\n",
       "      <td>Supply</td>\n",
       "      <td>G10</td>\n",
       "      <td>50</td>\n",
       "      <td>40.0</td>\n",
       "    </tr>\n",
       "    <tr>\n",
       "      <th>10</th>\n",
       "      <td>RT R© Supply</td>\n",
       "      <td>Supply</td>\n",
       "      <td>G11</td>\n",
       "      <td>70</td>\n",
       "      <td>60.0</td>\n",
       "    </tr>\n",
       "    <tr>\n",
       "      <th>11</th>\n",
       "      <td>RT R© Supply</td>\n",
       "      <td>Supply</td>\n",
       "      <td>G12</td>\n",
       "      <td>45</td>\n",
       "      <td>70.0</td>\n",
       "    </tr>\n",
       "    <tr>\n",
       "      <th>12</th>\n",
       "      <td>SafePeak</td>\n",
       "      <td>Supply</td>\n",
       "      <td>G13</td>\n",
       "      <td>50</td>\n",
       "      <td>100.0</td>\n",
       "    </tr>\n",
       "    <tr>\n",
       "      <th>13</th>\n",
       "      <td>SafePeak</td>\n",
       "      <td>Supply</td>\n",
       "      <td>G14</td>\n",
       "      <td>60</td>\n",
       "      <td>150.0</td>\n",
       "    </tr>\n",
       "    <tr>\n",
       "      <th>14</th>\n",
       "      <td>SafePeak</td>\n",
       "      <td>Supply</td>\n",
       "      <td>G15</td>\n",
       "      <td>50</td>\n",
       "      <td>200.0</td>\n",
       "    </tr>\n",
       "    <tr>\n",
       "      <th>15</th>\n",
       "      <td>CleanRetail</td>\n",
       "      <td>Demand</td>\n",
       "      <td>D1</td>\n",
       "      <td>250</td>\n",
       "      <td>200.0</td>\n",
       "    </tr>\n",
       "    <tr>\n",
       "      <th>16</th>\n",
       "      <td>El4You</td>\n",
       "      <td>Demand</td>\n",
       "      <td>D2</td>\n",
       "      <td>300</td>\n",
       "      <td>110.0</td>\n",
       "    </tr>\n",
       "    <tr>\n",
       "      <th>17</th>\n",
       "      <td>EVcharge</td>\n",
       "      <td>Demand</td>\n",
       "      <td>D3</td>\n",
       "      <td>120</td>\n",
       "      <td>100.0</td>\n",
       "    </tr>\n",
       "    <tr>\n",
       "      <th>18</th>\n",
       "      <td>QualiWatt</td>\n",
       "      <td>Demand</td>\n",
       "      <td>D4</td>\n",
       "      <td>80</td>\n",
       "      <td>90.0</td>\n",
       "    </tr>\n",
       "    <tr>\n",
       "      <th>19</th>\n",
       "      <td>IntelliWatt</td>\n",
       "      <td>Demand</td>\n",
       "      <td>D5</td>\n",
       "      <td>40</td>\n",
       "      <td>85.0</td>\n",
       "    </tr>\n",
       "    <tr>\n",
       "      <th>20</th>\n",
       "      <td>El4You</td>\n",
       "      <td>Demand</td>\n",
       "      <td>D6</td>\n",
       "      <td>70</td>\n",
       "      <td>75.0</td>\n",
       "    </tr>\n",
       "    <tr>\n",
       "      <th>21</th>\n",
       "      <td>CleanRetail</td>\n",
       "      <td>Demand</td>\n",
       "      <td>D7</td>\n",
       "      <td>60</td>\n",
       "      <td>65.0</td>\n",
       "    </tr>\n",
       "    <tr>\n",
       "      <th>22</th>\n",
       "      <td>IntelliWatt</td>\n",
       "      <td>Demand</td>\n",
       "      <td>D8</td>\n",
       "      <td>45</td>\n",
       "      <td>40.0</td>\n",
       "    </tr>\n",
       "    <tr>\n",
       "      <th>23</th>\n",
       "      <td>QualiWatt</td>\n",
       "      <td>Demand</td>\n",
       "      <td>D9</td>\n",
       "      <td>30</td>\n",
       "      <td>38.0</td>\n",
       "    </tr>\n",
       "    <tr>\n",
       "      <th>24</th>\n",
       "      <td>IntelliWatt</td>\n",
       "      <td>Demand</td>\n",
       "      <td>D10</td>\n",
       "      <td>35</td>\n",
       "      <td>31.0</td>\n",
       "    </tr>\n",
       "    <tr>\n",
       "      <th>25</th>\n",
       "      <td>CleanRetail</td>\n",
       "      <td>Demand</td>\n",
       "      <td>D11</td>\n",
       "      <td>25</td>\n",
       "      <td>24.0</td>\n",
       "    </tr>\n",
       "    <tr>\n",
       "      <th>26</th>\n",
       "      <td>El4You</td>\n",
       "      <td>Demand</td>\n",
       "      <td>D12</td>\n",
       "      <td>10</td>\n",
       "      <td>16.0</td>\n",
       "    </tr>\n",
       "  </tbody>\n",
       "</table>\n",
       "</div>"
      ],
      "text/plain": [
       "          Company Supply/Demand   ID  Quantity (MWh)  Price (€/MWh)\n",
       "0    RT R© Supply        Supply   G1             120            0.0\n",
       "1   WeTrustInWind        Supply   G2              50            0.0\n",
       "2       BlueHydro        Supply   G3             200           15.0\n",
       "3    RT R© Supply        Supply   G4             400           30.0\n",
       "4    KøbenhavnCHP        Supply   G5              60           32.5\n",
       "5    KøbenhavnCHP        Supply   G6              50           34.0\n",
       "6    KøbenhavnCHP        Supply   G7              60           36.0\n",
       "7      DirtyPower        Supply   G8             100           37.5\n",
       "8      DirtyPower        Supply   G9              70           39.0\n",
       "9      DirtyPower        Supply  G10              50           40.0\n",
       "10   RT R© Supply        Supply  G11              70           60.0\n",
       "11   RT R© Supply        Supply  G12              45           70.0\n",
       "12       SafePeak        Supply  G13              50          100.0\n",
       "13       SafePeak        Supply  G14              60          150.0\n",
       "14       SafePeak        Supply  G15              50          200.0\n",
       "15    CleanRetail        Demand   D1             250          200.0\n",
       "16         El4You        Demand   D2             300          110.0\n",
       "17       EVcharge        Demand   D3             120          100.0\n",
       "18      QualiWatt        Demand   D4              80           90.0\n",
       "19    IntelliWatt        Demand   D5              40           85.0\n",
       "20         El4You        Demand   D6              70           75.0\n",
       "21    CleanRetail        Demand   D7              60           65.0\n",
       "22    IntelliWatt        Demand   D8              45           40.0\n",
       "23      QualiWatt        Demand   D9              30           38.0\n",
       "24    IntelliWatt        Demand  D10              35           31.0\n",
       "25    CleanRetail        Demand  D11              25           24.0\n",
       "26         El4You        Demand  D12              10           16.0"
      ]
     },
     "execution_count": 32,
     "metadata": {},
     "output_type": "execute_result"
    }
   ],
   "source": [
    "path = '/Users/davidmiles-skov/Desktop/Academics/Projects/market-clearing-price/data/test.csv'\n",
    "df = pd.read_csv(path)\n",
    "df"
   ]
  },
  {
   "cell_type": "markdown",
   "metadata": {},
   "source": [
    "Gathering data"
   ]
  },
  {
   "cell_type": "code",
   "execution_count": 33,
   "metadata": {},
   "outputs": [
    {
     "data": {
      "text/plain": [
       "(15, 12)"
      ]
     },
     "execution_count": 33,
     "metadata": {},
     "output_type": "execute_result"
    }
   ],
   "source": [
    "supply_price = df[df['Supply/Demand']=='Supply']['Price (€/MWh)'].to_numpy()\n",
    "supply_quantity = df[df['Supply/Demand']=='Supply']['Quantity (MWh)'].to_numpy()\n",
    "demand_price = df[df['Supply/Demand']=='Demand']['Price (€/MWh)'].to_numpy()\n",
    "demand_quantity = df[df['Supply/Demand']=='Demand']['Quantity (MWh)'].to_numpy()\n",
    "\n",
    "N_G, N_D = len(supply_price), len(demand_price)\n",
    "N_G, N_D"
   ]
  },
  {
   "cell_type": "markdown",
   "metadata": {},
   "source": [
    "Setting up variables for linprog"
   ]
  },
  {
   "cell_type": "code",
   "execution_count": 70,
   "metadata": {},
   "outputs": [],
   "source": [
    "c = np.append(supply_price,-demand_price)\n",
    "A_eq = np.array([np.append(np.ones(N_G), -np.ones(N_D))])\n",
    "b_eq = 0\n",
    "A = np.identity(N_G+N_D)\n",
    "b = np.append(supply_quantity,demand_quantity)"
   ]
  },
  {
   "cell_type": "markdown",
   "metadata": {},
   "source": [
    "linprog"
   ]
  },
  {
   "cell_type": "code",
   "execution_count": 78,
   "metadata": {},
   "outputs": [],
   "source": [
    "result = linprog(c, A_eq=A_eq, b_eq=b_eq, A_ub=A, b_ub=b)"
   ]
  },
  {
   "cell_type": "markdown",
   "metadata": {},
   "source": [
    "Checking answer"
   ]
  },
  {
   "cell_type": "code",
   "execution_count": 79,
   "metadata": {},
   "outputs": [
    {
     "data": {
      "text/plain": [
       "        message: Optimization terminated successfully. (HiGHS Status 7: Optimal)\n",
       "        success: True\n",
       "         status: 0\n",
       "            fun: -94817.5\n",
       "              x: [ 1.200e+02  5.000e+01 ...  0.000e+00  0.000e+00]\n",
       "            nit: 1\n",
       "          lower:  residual: [ 1.200e+02  5.000e+01 ...  0.000e+00\n",
       "                              0.000e+00]\n",
       "                 marginals: [ 0.000e+00  0.000e+00 ...  1.350e+01\n",
       "                              2.150e+01]\n",
       "          upper:  residual: [       inf        inf ...        inf\n",
       "                                    inf]\n",
       "                 marginals: [ 0.000e+00  0.000e+00 ...  0.000e+00\n",
       "                              0.000e+00]\n",
       "          eqlin:  residual: [ 0.000e+00]\n",
       "                 marginals: [ 3.750e+01]\n",
       "        ineqlin:  residual: [ 0.000e+00  0.000e+00 ...  2.500e+01\n",
       "                              1.000e+01]\n",
       "                 marginals: [-3.750e+01 -3.750e+01 ... -0.000e+00\n",
       "                             -0.000e+00]\n",
       " mip_node_count: 0\n",
       " mip_dual_bound: 0.0\n",
       "        mip_gap: 0.0"
      ]
     },
     "execution_count": 79,
     "metadata": {},
     "output_type": "execute_result"
    }
   ],
   "source": [
    "result"
   ]
  },
  {
   "cell_type": "markdown",
   "metadata": {},
   "source": [
    "check lagrange multipliers"
   ]
  },
  {
   "cell_type": "code",
   "execution_count": 80,
   "metadata": {},
   "outputs": [
    {
     "data": {
      "text/plain": [
       "  residual: [ 0.000e+00  0.000e+00 ...  2.500e+01  1.000e+01]\n",
       " marginals: [-3.750e+01 -3.750e+01 ... -0.000e+00 -0.000e+00]"
      ]
     },
     "execution_count": 80,
     "metadata": {},
     "output_type": "execute_result"
    }
   ],
   "source": [
    "result.ineqlin"
   ]
  },
  {
   "cell_type": "code",
   "execution_count": 81,
   "metadata": {},
   "outputs": [
    {
     "data": {
      "text/plain": [
       "  residual: [ 0.000e+00]\n",
       " marginals: [ 3.750e+01]"
      ]
     },
     "execution_count": 81,
     "metadata": {},
     "output_type": "execute_result"
    }
   ],
   "source": [
    "result.eqlin"
   ]
  }
 ],
 "metadata": {
  "kernelspec": {
   "display_name": "market-clearing-price",
   "language": "python",
   "name": "python3"
  },
  "language_info": {
   "codemirror_mode": {
    "name": "ipython",
    "version": 3
   },
   "file_extension": ".py",
   "mimetype": "text/x-python",
   "name": "python",
   "nbconvert_exporter": "python",
   "pygments_lexer": "ipython3",
   "version": "3.12.4"
  }
 },
 "nbformat": 4,
 "nbformat_minor": 2
}
