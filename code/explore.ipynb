{
 "cells": [
  {
   "cell_type": "code",
   "execution_count": 2,
   "metadata": {},
   "outputs": [],
   "source": [
    "import pandas as pd\n",
    "import numpy as np\n",
    "from scipy.optimize import linprog\n",
    "import matplotlib.pyplot as plt"
   ]
  },
  {
   "cell_type": "code",
   "execution_count": 15,
   "metadata": {},
   "outputs": [],
   "source": [
    "path = '/Users/davidmiles-skov/Desktop/Academics/Projects/market-clearing-price/data/test.csv'\n",
    "df = pd.read_csv(path)\n",
    "# renaming columns for easier access\n",
    "mapper={'Quantity (MWh)':'Quantity',  'Price (€/MWh)':'Price'}\n",
    "df=df.rename(columns=mapper)\n",
    "df_supply =df[df['Supply/Demand']=='Supply']\n",
    "df_demand = df[df['Supply/Demand']=='Demand']"
   ]
  },
  {
   "cell_type": "markdown",
   "metadata": {},
   "source": [
    "Gathering data"
   ]
  },
  {
   "cell_type": "code",
   "execution_count": 7,
   "metadata": {},
   "outputs": [
    {
     "data": {
      "text/plain": [
       "(15, 12)"
      ]
     },
     "execution_count": 7,
     "metadata": {},
     "output_type": "execute_result"
    }
   ],
   "source": [
    "supply_price = df[df['Supply/Demand']=='Supply']['Price'].to_numpy()\n",
    "supply_quantity = df[df['Supply/Demand']=='Supply']['Quantity'].to_numpy()\n",
    "demand_price = df[df['Supply/Demand']=='Demand']['Price'].to_numpy()\n",
    "demand_quantity = df[df['Supply/Demand']=='Demand']['Quantity'].to_numpy()\n",
    "\n",
    "N_G, N_D = len(supply_price), len(demand_price)\n",
    "N_G, N_D"
   ]
  },
  {
   "cell_type": "markdown",
   "metadata": {},
   "source": [
    "Setting up variables for linprog"
   ]
  },
  {
   "cell_type": "code",
   "execution_count": 8,
   "metadata": {},
   "outputs": [],
   "source": [
    "c = np.append(supply_price,-demand_price)\n",
    "A_eq = np.array([np.append(np.ones(N_G), -np.ones(N_D))])\n",
    "b_eq = 0\n",
    "A = np.identity(N_G+N_D)\n",
    "b = np.append(supply_quantity,demand_quantity)"
   ]
  },
  {
   "cell_type": "markdown",
   "metadata": {},
   "source": [
    "linprog"
   ]
  },
  {
   "cell_type": "code",
   "execution_count": 9,
   "metadata": {},
   "outputs": [],
   "source": [
    "result = linprog(c, A_eq=A_eq, b_eq=b_eq, A_ub=A, b_ub=b)"
   ]
  },
  {
   "cell_type": "markdown",
   "metadata": {},
   "source": [
    "Checking answer"
   ]
  },
  {
   "cell_type": "code",
   "execution_count": 10,
   "metadata": {},
   "outputs": [
    {
     "data": {
      "text/plain": [
       "        message: Optimization terminated successfully. (HiGHS Status 7: Optimal)\n",
       "        success: True\n",
       "         status: 0\n",
       "            fun: -94817.5\n",
       "              x: [ 1.200e+02  5.000e+01 ...  0.000e+00  0.000e+00]\n",
       "            nit: 1\n",
       "          lower:  residual: [ 1.200e+02  5.000e+01 ...  0.000e+00\n",
       "                              0.000e+00]\n",
       "                 marginals: [ 0.000e+00  0.000e+00 ...  1.350e+01\n",
       "                              2.150e+01]\n",
       "          upper:  residual: [       inf        inf ...        inf\n",
       "                                    inf]\n",
       "                 marginals: [ 0.000e+00  0.000e+00 ...  0.000e+00\n",
       "                              0.000e+00]\n",
       "          eqlin:  residual: [ 0.000e+00]\n",
       "                 marginals: [ 3.750e+01]\n",
       "        ineqlin:  residual: [ 0.000e+00  0.000e+00 ...  2.500e+01\n",
       "                              1.000e+01]\n",
       "                 marginals: [-3.750e+01 -3.750e+01 ... -0.000e+00\n",
       "                             -0.000e+00]\n",
       " mip_node_count: 0\n",
       " mip_dual_bound: 0.0\n",
       "        mip_gap: 0.0"
      ]
     },
     "execution_count": 10,
     "metadata": {},
     "output_type": "execute_result"
    }
   ],
   "source": [
    "result"
   ]
  },
  {
   "cell_type": "markdown",
   "metadata": {},
   "source": [
    "check lagrange multipliers"
   ]
  },
  {
   "cell_type": "code",
   "execution_count": 11,
   "metadata": {},
   "outputs": [
    {
     "data": {
      "text/plain": [
       "  residual: [ 0.000e+00  0.000e+00 ...  2.500e+01  1.000e+01]\n",
       " marginals: [-3.750e+01 -3.750e+01 ... -0.000e+00 -0.000e+00]"
      ]
     },
     "execution_count": 11,
     "metadata": {},
     "output_type": "execute_result"
    }
   ],
   "source": [
    "result.ineqlin"
   ]
  },
  {
   "cell_type": "code",
   "execution_count": 12,
   "metadata": {},
   "outputs": [
    {
     "data": {
      "text/plain": [
       "  residual: [ 0.000e+00]\n",
       " marginals: [ 3.750e+01]"
      ]
     },
     "execution_count": 12,
     "metadata": {},
     "output_type": "execute_result"
    }
   ],
   "source": [
    "result.eqlin"
   ]
  },
  {
   "cell_type": "code",
   "execution_count": 14,
   "metadata": {},
   "outputs": [
    {
     "data": {
      "text/plain": [
       "'Company'"
      ]
     },
     "execution_count": 14,
     "metadata": {},
     "output_type": "execute_result"
    }
   ],
   "source": [
    "df.columns[0]"
   ]
  },
  {
   "cell_type": "markdown",
   "metadata": {},
   "source": [
    "Visualising proportion of Supply and Demand reached for respect producers and consumers"
   ]
  },
  {
   "cell_type": "code",
   "execution_count": 32,
   "metadata": {},
   "outputs": [
    {
     "data": {
      "image/png": "[encoded data removed]",
      "text/plain": [
       "<Figure size 1400x480 with 1 Axes>"
      ]
     },
     "metadata": {},
     "output_type": "display_data"
    },
    {
     "name": "stdout",
     "output_type": "stream",
     "text": [
      "----- Percentage of offer accepted ----\n",
      "['G1' 'G2' 'G3' 'G4' 'G5' 'G6' 'G7' 'G8' 'G9' 'G10' 'G11' 'G12' 'G13'\n",
      " 'G14' 'G15']\n",
      "[100. 100. 100. 100. 100. 100. 100.  55.   0.   0.   0.   0.   0.   0.\n",
      "   0.]\n"
     ]
    }
   ],
   "source": [
    "labels_producers = df_supply['ID'] \n",
    "labels_consumers = df_demand['ID']\n",
    "\n",
    "actual_producers = result.x[:N_G]\n",
    "actual_consumers = result.x[N_G::]\n",
    "\n",
    "offer_producers = supply_quantity\n",
    "offer_consumers = demand_quantity\n",
    "\n",
    "y_pos_producers = np.arange(len(labels_producers))\n",
    "y_pos_consumers = np.arange(len(labels_consumers))\n",
    "\n",
    "# Plotting producers\n",
    "fig, ax = plt.subplots()\n",
    "# make figure wider\n",
    "fig.set_figwidth(14)\n",
    "ax.barh(y_pos_producers, offer_producers, alpha=0.6, label='Offered')\n",
    "\n",
    "# Going over, IDs again, indicating actual amount of electricity supplied\n",
    "\n",
    "ax.barh(y_pos_producers, actual_producers, alpha=0.8, color='midnightblue', label='Accepted')\n",
    "\n",
    "ax.set_yticks(y_pos_producers)\n",
    "ax.set_yticklabels(labels_producers, fontsize=10)\n",
    "ax.set_xlabel('MWh')\n",
    "ax.set_ylabel('ID')\n",
    "ax.set_title(\"Supply (Accepted + Offered)\")\n",
    "plt.xticks(rotation=45)\n",
    "plt.show()\n",
    "print(\"----- Percentage of offer accepted ----\")\n",
    "print(labels_producers.to_numpy())\n",
    "print(f\"{100*actual_producers/offer_producers}\")"
   ]
  },
  {
   "cell_type": "markdown",
   "metadata": {},
   "source": [
    "doing the same for consumers"
   ]
  },
  {
   "cell_type": "code",
   "execution_count": 36,
   "metadata": {},
   "outputs": [
    {
     "data": {
      "image/png": "[encoded data removed]",
      "text/plain": [
       "<Figure size 1400x480 with 1 Axes>"
      ]
     },
     "metadata": {},
     "output_type": "display_data"
    },
    {
     "name": "stdout",
     "output_type": "stream",
     "text": [
      "----- Percentage of offer accepted ----\n",
      "['D1' 'D2' 'D3' 'D4' 'D5' 'D6' 'D7' 'D8' 'D9' 'D10' 'D11' 'D12']\n",
      "[100. 100. 100. 100. 100. 100. 100. 100. 100.   0.   0.   0.]\n"
     ]
    }
   ],
   "source": [
    "fig, ax = plt.subplots()\n",
    "# make figure wider\n",
    "fig.set_figwidth(14)\n",
    "ax.barh(y_pos_consumers, offer_consumers, alpha=0.6, color='lightcoral', label='Offered')\n",
    "\n",
    "# Going over, IDs again, indicating actual amount of electricity supplied\n",
    "\n",
    "ax.barh(y_pos_consumers, actual_consumers, alpha=0.8, color='darkred', label='Accepted')\n",
    "\n",
    "ax.set_yticks(y_pos_consumers)\n",
    "ax.set_yticklabels(labels_consumers, fontsize=10)\n",
    "ax.set_xlabel('MWh')\n",
    "ax.set_ylabel('ID')\n",
    "ax.set_title(\"Demand (Accepted + Offered)\")\n",
    "plt.xticks(rotation=45)\n",
    "plt.show()\n",
    "print(\"----- Percentage of offer accepted ----\")\n",
    "print(labels_consumers.to_numpy())\n",
    "print(f\"{100*actual_consumers/offer_consumers}\")"
   ]
  }
 ],
 "metadata": {
  "kernelspec": {
   "display_name": "market-clearing-price",
   "language": "python",
   "name": "python3"
  },
  "language_info": {
   "codemirror_mode": {
    "name": "ipython",
    "version": 3
   },
   "file_extension": ".py",
   "mimetype": "text/x-python",
   "name": "python",
   "nbconvert_exporter": "python",
   "pygments_lexer": "ipython3",
   "version": "3.12.4"
  }
 },
 "nbformat": 4,
 "nbformat_minor": 2
}
